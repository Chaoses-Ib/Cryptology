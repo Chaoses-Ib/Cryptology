{
 "cells": [
  {
   "cell_type": "code",
   "execution_count": 3,
   "metadata": {},
   "outputs": [
    {
     "name": "stdout",
     "output_type": "stream",
     "text": [
      "65535\n"
     ]
    }
   ],
   "source": [
    "start_state = 1 << 15 | 1\n",
    "lfsr = start_state\n",
    "period = 0\n",
    "\n",
    "while True:\n",
    "    #taps: 16 15 13 4; feedback polynomial: x^16 + x^15 + x^13 + x^4 + 1\n",
    "    bit = (lfsr ^ (lfsr >> 1) ^ (lfsr >> 3) ^ (lfsr >> 12)) & 1\n",
    "    lfsr = (lfsr >> 1) | (bit << 15)\n",
    "    #print(lfsr)\n",
    "    period += 1\n",
    "    if (lfsr == start_state):\n",
    "        print(period)\n",
    "        break"
   ]
  }
 ],
 "metadata": {
  "kernelspec": {
   "display_name": "base",
   "language": "python",
   "name": "python3"
  },
  "language_info": {
   "codemirror_mode": {
    "name": "ipython",
    "version": 3
   },
   "file_extension": ".py",
   "mimetype": "text/x-python",
   "name": "python",
   "nbconvert_exporter": "python",
   "pygments_lexer": "ipython3",
   "version": "3.9.1"
  },
  "orig_nbformat": 4
 },
 "nbformat": 4,
 "nbformat_minor": 2
}
